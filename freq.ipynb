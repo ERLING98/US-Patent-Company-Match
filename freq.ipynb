{
 "cells": [
  {
   "cell_type": "code",
   "execution_count": 97,
   "id": "e7ff8122",
   "metadata": {},
   "outputs": [],
   "source": [
    "import numpy as np\n",
    "import pandas as pd\n",
    "import os\n",
    "from nltk.corpus import stopwords\n",
    "import string\n",
    "\n",
    "pd.set_option('display.min_rows', 1000)\n",
    "\n",
    "os.chdir('D:\\My Drive\\Wei\\Patent')\n",
    "#patent_raw=pd.read_csv(\"patent_trade_dataset.csv\")\n"
   ]
  },
  {
   "cell_type": "code",
   "execution_count": 109,
   "id": "25c3ee17",
   "metadata": {},
   "outputs": [],
   "source": [
    "#frequency count (have not delete high frequency words)\n",
    "#quick remark:.str callable to seires, split callable to str, df['col']=series,series[i]=datatype(e.g str)\n",
    "stop=stopwords.words('english')\n",
    "#stop=stop+[i for i in string.punctuation] #if include punctuation, but I want to keep some of puntation\n",
    "ee_name_nodup=pd.DataFrame(patent_raw['ee_name'].drop_duplicates())\n",
    "ee_name_nodup=ee_name_nodup.astype(str)\n",
    "ee_name_nostop=pd.DataFrame()\n",
    "ee_name_nostop['ee_name']=ee_name_nodup['ee_name'].apply(lambda x: ' '.join([word for word in x.split() if word not in (stop)]))\n",
    "freq_ee=pd.DataFrame(ee_name_nostop['ee_name'].str.split(expand=True).stack().value_counts())\n",
    "freq_ee=freq_ee.reset_index()\n",
    "freq_ee=freq_ee.rename(columns={'index':'word',0:'freq'})\n",
    "freq_ee=freq_ee[['word','freq']]\n",
    "\n",
    "\n",
    "or_name_nodup=pd.DataFrame(patent_raw['or_name'].drop_duplicates())\n",
    "or_name_nodup=or_name_nodup.astype(str)\n",
    "or_name_nostop=pd.DataFrame()\n",
    "or_name_nostop['or_name']=or_name_nodup['or_name'].apply(lambda x: \" \".join([word for word in x.split() if word not in (stop)]))\n",
    "freq_or=pd.DataFrame(or_name_nostop['or_name'].str.split(expand=True).stack().value_counts())\n",
    "freq_or=freq_or.reset_index()\n",
    "freq_or=freq_or.rename(columns={'index':'word',0:'freq'})\n",
    "freq_or=freq_or[['word','freq']]\n",
    "\n",
    "freq_ee.to_csv(\"ee_name_freq.csv\",index=False)\n",
    "freq_or.to_csv(\"or_name_freq.csv\",index=False)\n"
   ]
  },
  {
   "cell_type": "code",
   "execution_count": null,
   "id": "6ebcf614",
   "metadata": {},
   "outputs": [],
   "source": []
  }
 ],
 "metadata": {
  "kernelspec": {
   "display_name": "Python 3 (ipykernel)",
   "language": "python",
   "name": "python3"
  },
  "language_info": {
   "codemirror_mode": {
    "name": "ipython",
    "version": 3
   },
   "file_extension": ".py",
   "mimetype": "text/x-python",
   "name": "python",
   "nbconvert_exporter": "python",
   "pygments_lexer": "ipython3",
   "version": "3.9.13"
  }
 },
 "nbformat": 4,
 "nbformat_minor": 5
}
